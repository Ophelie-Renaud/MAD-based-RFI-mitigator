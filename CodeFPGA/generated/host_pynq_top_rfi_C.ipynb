{
 "cells": [
  {
   "cell_type": "code",
   "execution_count": 1,
   "metadata": {},
   "outputs": [
    {
     "data": {
      "application/javascript": [
       "\n",
       "require(['notebook/js/codecell'], function(codecell) {\n",
       "  codecell.CodeCell.options_default.highlight_modes[\n",
       "      'magic_text/x-csrc'] = {'reg':[/^%%microblaze/]};\n",
       "  Jupyter.notebook.events.one('kernel_ready.Kernel', function(){\n",
       "      Jupyter.notebook.get_cells().map(function(cell){\n",
       "          if (cell.cell_type == 'code'){ cell.auto_highlight(); } }) ;\n",
       "  });\n",
       "});\n"
      ]
     },
     "metadata": {},
     "output_type": "display_data"
    }
   ],
   "source": [
"from pynq import Overlay\n",
"from pynq import allocate\n",
"\n",
"import numpy as np\n",
"import time\n",
"\n",
"# Load the kernels\n",
"overlay = Overlay('/home/xilinx/jupyter_notebooks/preesm/top_rfi_C.bit')\n",
"mem_read = overlay.mem_read_top_rfi_C_0\n",
"mem_write = overlay.mem_write_top_rfi_C_0\n",
"\n",
"\n",
"# Define constants\n",
"\n",
"    \n",
"    \n",
"# Buffer initialization\n",
"# TODO update dtype\n",
"# see: https://numpy.org/doc/stable/user/basics.types.html\n",
"# see: https://numpy.org/doc/stable/reference/arrays.dtypes.html\n",
"# TODO fill data\n",
"\n",
"\n",
"        \n",
"# Buffer mapping to FPGA\n",
"\n",
"\n",
"\n",
"# Start read and write\n",
"start = time.time()\n",
"mem_read.register_map.CTRL.AP_START = 1\n",
"mem_write.register_map.CTRL.AP_START = 1\n",
"end = time.time()\n",
"    \n",
"# Active wait\n",
"while mem_write.register_map.CTRL.AP_DONE == 0:\n",
"    end = time.time()\n",
"print (\"time: \", end - start)\n",
"    \n",
"# TODO check results\n"
   ]
  },
  {
   "cell_type": "code",
   "execution_count": null,
   "metadata": {},
   "outputs": [],
   "source": []
  }
 ],
 "metadata": {
  "kernelspec": {
   "display_name": "Python 3",
   "language": "python",
   "name": "python3"
  },
  "language_info": {
   "codemirror_mode": {
    "name": "ipython",
    "version": 3
   },
   "file_extension": ".py",
   "mimetype": "text/x-python",
   "name": "python",
   "nbconvert_exporter": "python",
   "pygments_lexer": "ipython3",
   "version": "3.6.5"
  }
 },
 "nbformat": 4,
 "nbformat_minor": 2
}
